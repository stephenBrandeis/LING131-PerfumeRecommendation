{
 "cells": [
  {
   "cell_type": "code",
   "execution_count": 71,
   "metadata": {},
   "outputs": [],
   "source": [
    "import pandas as pd\n",
    "import pickle\n",
    "from nltk.corpus import stopwords\n",
    "from nltk.stem import SnowballStemmer\n",
    "from nltk.tokenize import RegexpTokenizer\n",
    "from sklearn.feature_extraction.text import TfidfVectorizer\n",
    "from sklearn.metrics.pairwise import cosine_similarity\n",
    "from scipy import sparse\n",
    "import re\n",
    "import gensim\n",
    "from skimage import io\n",
    "import matplotlib.pyplot as plt\n",
    "from gensim.test.utils import get_tmpfile"
   ]
  },
  {
   "cell_type": "code",
   "execution_count": 72,
   "metadata": {},
   "outputs": [],
   "source": [
    "df = pd.read_pickle('./perfume_data.pkl')"
   ]
  },
  {
   "cell_type": "code",
   "execution_count": 73,
   "metadata": {},
   "outputs": [
    {
     "data": {
      "text/html": [
       "<div>\n",
       "<style scoped>\n",
       "    .dataframe tbody tr th:only-of-type {\n",
       "        vertical-align: middle;\n",
       "    }\n",
       "\n",
       "    .dataframe tbody tr th {\n",
       "        vertical-align: top;\n",
       "    }\n",
       "\n",
       "    .dataframe thead th {\n",
       "        text-align: right;\n",
       "    }\n",
       "</style>\n",
       "<table border=\"1\" class=\"dataframe\">\n",
       "  <thead>\n",
       "    <tr style=\"text-align: right;\">\n",
       "      <th></th>\n",
       "      <th>title</th>\n",
       "      <th>imgae</th>\n",
       "      <th>description</th>\n",
       "      <th>notes</th>\n",
       "    </tr>\n",
       "  </thead>\n",
       "  <tbody>\n",
       "    <tr>\n",
       "      <td>0</td>\n",
       "      <td>Creation-E Parfum Cologne</td>\n",
       "      <td>https://www.luckyscent.com//images/products/74...</td>\n",
       "      <td>Roja’s much loved Creation-E, or Enigma as it’...</td>\n",
       "      <td>bergamot, geranium, rose de mai, neroli, jasmi...</td>\n",
       "    </tr>\n",
       "    <tr>\n",
       "      <td>1</td>\n",
       "      <td>Baccarat Rouge 540</td>\n",
       "      <td>https://www.luckyscent.com//images/products/49...</td>\n",
       "      <td>In the Fall of 2014, Baccarat, the most presti...</td>\n",
       "      <td>Citrus, jasmine, saffron, sage, ambergris, oak...</td>\n",
       "    </tr>\n",
       "    <tr>\n",
       "      <td>2</td>\n",
       "      <td>Bee</td>\n",
       "      <td>https://www.luckyscent.com//images/products/76...</td>\n",
       "      <td>We don’t usually play favorites. We love all o...</td>\n",
       "      <td>orange, ginger syrup, royal jelly accord, broo...</td>\n",
       "    </tr>\n",
       "    <tr>\n",
       "      <td>3</td>\n",
       "      <td>Pacific Rock Moss</td>\n",
       "      <td>https://www.luckyscent.com//images/products/79...</td>\n",
       "      <td>A bona fide fragrance sensation, Pacific Rock ...</td>\n",
       "      <td>Australian coastal moss, lemon, sage, geranium...</td>\n",
       "    </tr>\n",
       "    <tr>\n",
       "      <td>4</td>\n",
       "      <td>Ani</td>\n",
       "      <td>https://www.luckyscent.com//images/products/77...</td>\n",
       "      <td>An ancient metropolis now abandoned to the age...</td>\n",
       "      <td>Bergamot, green notes, blue ginger, pink peppe...</td>\n",
       "    </tr>\n",
       "  </tbody>\n",
       "</table>\n",
       "</div>"
      ],
      "text/plain": [
       "                       title  \\\n",
       "0  Creation-E Parfum Cologne   \n",
       "1         Baccarat Rouge 540   \n",
       "2                        Bee   \n",
       "3          Pacific Rock Moss   \n",
       "4                        Ani   \n",
       "\n",
       "                                               imgae  \\\n",
       "0  https://www.luckyscent.com//images/products/74...   \n",
       "1  https://www.luckyscent.com//images/products/49...   \n",
       "2  https://www.luckyscent.com//images/products/76...   \n",
       "3  https://www.luckyscent.com//images/products/79...   \n",
       "4  https://www.luckyscent.com//images/products/77...   \n",
       "\n",
       "                                         description  \\\n",
       "0  Roja’s much loved Creation-E, or Enigma as it’...   \n",
       "1  In the Fall of 2014, Baccarat, the most presti...   \n",
       "2  We don’t usually play favorites. We love all o...   \n",
       "3  A bona fide fragrance sensation, Pacific Rock ...   \n",
       "4  An ancient metropolis now abandoned to the age...   \n",
       "\n",
       "                                               notes  \n",
       "0  bergamot, geranium, rose de mai, neroli, jasmi...  \n",
       "1  Citrus, jasmine, saffron, sage, ambergris, oak...  \n",
       "2  orange, ginger syrup, royal jelly accord, broo...  \n",
       "3  Australian coastal moss, lemon, sage, geranium...  \n",
       "4  Bergamot, green notes, blue ginger, pink peppe...  "
      ]
     },
     "execution_count": 73,
     "metadata": {},
     "output_type": "execute_result"
    }
   ],
   "source": [
    "df.head()"
   ]
  },
  {
   "cell_type": "code",
   "execution_count": 74,
   "metadata": {},
   "outputs": [
    {
     "data": {
      "text/plain": [
       "'Roja’s much loved Creation-E, or Enigma as it’s known over the pond, is probably the ne-plus-ultra of private men’s club genre - a heady swirl of cognac, rum, cane sugar, cigar tobacco, vanilla, and gingery aromas that wraps around its wearer like an ermine cloak custom-made in one of London’s Saville Row tailors. But maybe – just maybe – you can’t wear an ermine cloak of a scent every day (though Roja would probably argue with us on that one). \\rIf you love the rich warmth of this spicy oriental and just don’t know how to quit it, then take heart – Roja Dove has heard you. Creation-E Parfum Cologne is a much lighter, fresher take on the original eau de parfum that’s perfect for both those early office meetings and stupid hot weather.  \\rThe warm booziness of cognac and rum is still there, but cast over a frame that features lighter, fresher qualities of woods, tobacco, and jasmine, you get less of that ‘rum-and-coke’ feel that’s not really appropriate outside of date night or deep winter, and more of a lightly-spiced, powdered tobacco affair. You still get all the complexity of the jasmine layered with woods, spice, leather, and woods, but Creation-E Parfum Cologne is an airy genoise to the fruitcake of the original. Both iterations are gorgeous, so choose according to your own lifestyle and personality!'"
      ]
     },
     "execution_count": 74,
     "metadata": {},
     "output_type": "execute_result"
    }
   ],
   "source": [
    "df['description'][0]"
   ]
  },
  {
   "cell_type": "markdown",
   "metadata": {},
   "source": [
    "#  Clean data"
   ]
  },
  {
   "cell_type": "code",
   "execution_count": 75,
   "metadata": {},
   "outputs": [],
   "source": [
    "def stem_words(text):\n",
    "    text = text.split()\n",
    "    stemmer = SnowballStemmer('english')\n",
    "    stemmed_words = [stemmer.stem(word) for word in text]\n",
    "    text = \" \".join(stemmed_words)\n",
    "    return text\n",
    "\n",
    "def make_lower_case(text):\n",
    "    return text.lower()\n",
    "\n",
    "def remove_stop_words(text):\n",
    "    text = text.split()\n",
    "    stops = set(stopwords.words(\"english\"))\n",
    "    text = [w for w in text if not w in stops]\n",
    "    text = \" \".join(text)\n",
    "    return text\n",
    "\n",
    "def remove_punctuation(text):\n",
    "    tokenizer = RegexpTokenizer(r'\\w+')\n",
    "    text = tokenizer.tokenize(text)\n",
    "    text = \" \".join(text)\n",
    "    return text"
   ]
  },
  {
   "cell_type": "code",
   "execution_count": 76,
   "metadata": {},
   "outputs": [],
   "source": [
    "df['description'] = df.description.apply(func=make_lower_case)\n",
    "df['description'] = df.description.apply(func=remove_stop_words)\n",
    "df['description'] = df.description.apply(func=remove_punctuation)\n",
    "df['description'] = df.description.apply(func=stem_words)"
   ]
  },
  {
   "cell_type": "code",
   "execution_count": 77,
   "metadata": {},
   "outputs": [],
   "source": [
    "df['notes'] = df.description.apply(func=make_lower_case)\n",
    "df['notes'] = df.description.apply(func=remove_punctuation)\n",
    "df['notes'] = df.description.apply(func=stem_words)"
   ]
  },
  {
   "cell_type": "code",
   "execution_count": 78,
   "metadata": {},
   "outputs": [
    {
     "data": {
      "text/plain": [
       "'roja s much love creation e enigma it s known pond probabl ne plus ultra privat men s club genr headi swirl cognac rum cane sugar cigar tobacco vanilla gingeri aroma wrap around wearer like ermin cloak custom made one london s savill row tailor mayb mayb can t wear ermin cloak scent everi day though roja would probabl argu us one love rich warmth spici orient don t know quit it take heart roja dove heard you creation e parfum cologn much lighter fresher take origin eau de parfum that s perfect earli offic meet stupid hot weather warm boozi cognac rum still there cast frame featur lighter fresher qualiti wood tobacco jasmin get less rum and coke feel that s realli appropri outsid date night deep winter light spice powder tobacco affair still get complex jasmin layer wood spice leather wood creation e parfum cologn airi genois fruitcak origin iter gorgeous choos accord lifestyl person'"
      ]
     },
     "execution_count": 78,
     "metadata": {},
     "output_type": "execute_result"
    }
   ],
   "source": [
    "df['description'][0]"
   ]
  },
  {
   "cell_type": "markdown",
   "metadata": {},
   "source": [
    "#  TF-IDF model"
   ]
  },
  {
   "cell_type": "code",
   "execution_count": 79,
   "metadata": {},
   "outputs": [],
   "source": [
    "df['full_document'] = df['description'] + ' ' + df['notes']"
   ]
  },
  {
   "cell_type": "code",
   "execution_count": 80,
   "metadata": {},
   "outputs": [
    {
     "name": "stdout",
     "output_type": "stream",
     "text": [
      "(2288, 3615)\n"
     ]
    }
   ],
   "source": [
    "#Fit TFIDF \n",
    "#Learn vocabulary and tfidf from all style_ids.\n",
    "tf = TfidfVectorizer(analyzer='word', \n",
    "                     min_df=10,\n",
    "                     ngram_range=(1, 2),\n",
    "                     #max_features=1000,\n",
    "                     stop_words='english')\n",
    "tf.fit(df['full_document'])\n",
    "\n",
    "#Transform style_id products to document-term matrix.\n",
    "tfidf_matrix = tf.transform(df['full_document'])\n",
    "pickle.dump(tf, open(\"models/tfidf_model.pkl\", \"wb\"))\n",
    "\n",
    "print(tfidf_matrix.shape)\n"
   ]
  },
  {
   "cell_type": "code",
   "execution_count": 81,
   "metadata": {},
   "outputs": [],
   "source": [
    "# Compress with SVD\n",
    "from sklearn.decomposition import TruncatedSVD\n",
    "svd = TruncatedSVD(n_components=500)\n",
    "latent_matrix = svd.fit_transform(tfidf_matrix)\n",
    "pickle.dump(svd, open(\"models/svd_model.pkl\", \"wb\"))"
   ]
  },
  {
   "cell_type": "code",
   "execution_count": 82,
   "metadata": {},
   "outputs": [
    {
     "name": "stdout",
     "output_type": "stream",
     "text": [
      "(2288, 500)\n",
      "[[ 2.56066064e-01 -1.60660332e-01 -3.74097281e-03 ... -2.65173908e-04\n",
      "   1.28291562e-04 -2.13379956e-04]\n",
      " [ 2.56277794e-01 -6.13705159e-01  2.52772069e-01 ...  2.88009412e-04\n",
      "  -3.44728004e-04  1.35107576e-04]\n",
      " [ 2.70536656e-01 -1.16768852e-01 -5.34095910e-01 ... -4.50300373e-04\n",
      "   5.05087917e-04  5.29611378e-05]\n",
      " ...\n",
      " [ 1.12383416e-01 -1.45280927e-02 -1.68938609e-02 ... -2.87658095e-02\n",
      "   1.03651861e-02  1.89922949e-02]\n",
      " [ 1.40468757e-01 -1.57948640e-02 -7.02591002e-02 ... -2.09660143e-02\n",
      "   1.14553588e-02  3.55166052e-02]\n",
      " [ 1.36563592e-01  6.52840220e-03 -1.00144847e-02 ...  7.11554379e-03\n",
      "   1.85367905e-02 -2.76941765e-02]]\n"
     ]
    }
   ],
   "source": [
    "print(latent_matrix.shape)\n",
    "print(latent_matrix)"
   ]
  },
  {
   "cell_type": "code",
   "execution_count": 83,
   "metadata": {},
   "outputs": [
    {
     "name": "stdout",
     "output_type": "stream",
     "text": [
      "(2288, 15)\n",
      "                                  0         1         2         3         4  \\\n",
      "title                                                                         \n",
      "Creation-E Parfum Cologne  0.256066 -0.160660 -0.003741 -0.525072 -0.047155   \n",
      "Baccarat Rouge 540         0.256278 -0.613705  0.252772 -0.075099  0.108815   \n",
      "Bee                        0.270537 -0.116769 -0.534096 -0.185133 -0.382975   \n",
      "Pacific Rock Moss          0.218100  0.336110 -0.299989  0.079515  0.752934   \n",
      "Ani                        0.289802  0.067467  0.386150 -0.259278  0.259697   \n",
      "\n",
      "                                  5         6         7         8         9  \\\n",
      "title                                                                         \n",
      "Creation-E Parfum Cologne -0.500964 -0.571709 -0.022680  0.226952  0.004193   \n",
      "Baccarat Rouge 540         0.576175 -0.071931 -0.248579  0.276881  0.000810   \n",
      "Bee                        0.200613  0.228671  0.527381  0.275221  0.006128   \n",
      "Pacific Rock Moss          0.195581 -0.227975  0.154413  0.247134  0.014253   \n",
      "Ani                       -0.311803  0.659667  0.053974  0.302444  0.000625   \n",
      "\n",
      "                                 10        11        12        13        14  \n",
      "title                                                                        \n",
      "Creation-E Parfum Cologne  0.012416 -0.001555 -0.009375  0.003438 -0.004416  \n",
      "Baccarat Rouge 540         0.010367 -0.002811 -0.005664  0.005391 -0.011271  \n",
      "Bee                        0.006382  0.001547 -0.001862 -0.002671 -0.001396  \n",
      "Pacific Rock Moss          0.011168  0.000789  0.008581  0.010932  0.006207  \n",
      "Ani                       -0.001203  0.008519 -0.004999  0.012608  0.002129  \n"
     ]
    }
   ],
   "source": [
    "n = 15 #pick components to reduce model training time\n",
    "\n",
    "doc_labels = df.title\n",
    "svd_feature_matrix = pd.DataFrame(latent_matrix[:,0:n] ,index=doc_labels)\n",
    "print(svd_feature_matrix.shape)\n",
    "print(svd_feature_matrix.head())\n",
    "\n",
    "pickle.dump(svd_feature_matrix, open(\"models/lsa_embeddings.pkl\", \"wb\"))"
   ]
  },
  {
   "cell_type": "markdown",
   "metadata": {},
   "source": [
    "# Doc2Vec model"
   ]
  },
  {
   "cell_type": "code",
   "execution_count": 84,
   "metadata": {},
   "outputs": [],
   "source": [
    "#Use  descriptions for vocabulary \n",
    "descriptions = df.description.values.tolist()\n",
    "#notes = df.notes.values.tolist() #not using notes because sematics and order of list is not meaningfull. \n",
    "\n",
    "documents = []\n",
    "for i in range(len(df)):\n",
    "    mystr = descriptions[i]\n",
    "    documents.append(re.sub(\"[^\\w]\", \" \",  mystr).split())"
   ]
  },
  {
   "cell_type": "code",
   "execution_count": 85,
   "metadata": {},
   "outputs": [
    {
     "name": "stdout",
     "output_type": "stream",
     "text": [
      "2288\n",
      "2288\n"
     ]
    }
   ],
   "source": [
    "print(len(df))\n",
    "print(len(documents))"
   ]
  },
  {
   "cell_type": "code",
   "execution_count": 86,
   "metadata": {},
   "outputs": [
    {
     "name": "stdout",
     "output_type": "stream",
     "text": [
      "roja s much love creation e enigma it s known pond probabl ne plus ultra privat men s club genr headi swirl cognac rum cane sugar cigar tobacco vanilla gingeri aroma wrap around wearer like ermin cloak custom made one london s savill row tailor mayb mayb can t wear ermin cloak scent everi day though roja would probabl argu us one love rich warmth spici orient don t know quit it take heart roja dove heard you creation e parfum cologn much lighter fresher take origin eau de parfum that s perfect earli offic meet stupid hot weather warm boozi cognac rum still there cast frame featur lighter fresher qualiti wood tobacco jasmin get less rum and coke feel that s realli appropri outsid date night deep winter light spice powder tobacco affair still get complex jasmin layer wood spice leather wood creation e parfum cologn airi genois fruitcak origin iter gorgeous choos accord lifestyl person\n"
     ]
    }
   ],
   "source": [
    "print(descriptions[0])"
   ]
  },
  {
   "cell_type": "code",
   "execution_count": 87,
   "metadata": {},
   "outputs": [],
   "source": [
    "formatted_documents = [gensim.models.doc2vec.TaggedDocument(doc, [i]) for i, doc in enumerate(documents)]\n",
    "\n",
    "model = gensim.models.doc2vec.Doc2Vec(vector_size=15, min_count=5, epochs=100, seed=0, dm=0)\n",
    "model.build_vocab(formatted_documents)"
   ]
  },
  {
   "cell_type": "code",
   "execution_count": 88,
   "metadata": {},
   "outputs": [
    {
     "name": "stdout",
     "output_type": "stream",
     "text": [
      "Wall time: 14.5 s\n"
     ]
    }
   ],
   "source": [
    "%time model.train(formatted_documents, total_examples=model.corpus_count, epochs=model.epochs)"
   ]
  },
  {
   "cell_type": "code",
   "execution_count": 89,
   "metadata": {},
   "outputs": [],
   "source": [
    "fname = get_tmpfile(\"models/doc2vec_model\")\n",
    "model.save(\"models/doc2vec_model\")\n",
    "model = gensim.models.doc2vec.Doc2Vec.load(\"./models/doc2vec_model\")"
   ]
  },
  {
   "cell_type": "code",
   "execution_count": 90,
   "metadata": {},
   "outputs": [
    {
     "data": {
      "text/plain": [
       "array([-0.7054569 ,  0.4365423 ,  0.41396883, -0.10957432,  0.16441976,\n",
       "        0.06373617, -0.808805  ,  0.57922715,  0.56320035, -0.08707153,\n",
       "        0.4541724 , -0.05609159, -0.77222055,  0.2664958 ,  0.8411225 ],\n",
       "      dtype=float32)"
      ]
     },
     "execution_count": 90,
     "metadata": {},
     "output_type": "execute_result"
    }
   ],
   "source": [
    "vector = model.infer_vector(doc_words=[\"this\", \"is\", \"a\", \"test\"], epochs=50)\n",
    "vector"
   ]
  },
  {
   "cell_type": "code",
   "execution_count": 91,
   "metadata": {},
   "outputs": [
    {
     "name": "stdout",
     "output_type": "stream",
     "text": [
      "(2288, 15)\n",
      "                                  0         1         2         3         4  \\\n",
      "title                                                                         \n",
      "Creation-E Parfum Cologne  0.836062  1.895215 -0.516446  0.991018 -2.421540   \n",
      "Baccarat Rouge 540         0.004957  1.053481 -1.103654  2.033489 -4.019248   \n",
      "Bee                       -1.487729 -0.472993 -1.150733  1.383259 -1.438663   \n",
      "Pacific Rock Moss         -2.584111  1.564771  2.985204 -0.556560 -2.596961   \n",
      "Ani                       -0.885993  1.186680 -0.663744  0.905095 -1.787201   \n",
      "\n",
      "                                  5         6         7         8         9  \\\n",
      "title                                                                         \n",
      "Creation-E Parfum Cologne -0.713522 -0.152724  3.299130  1.626242  0.975157   \n",
      "Baccarat Rouge 540        -0.197712 -1.748033 -0.815798  0.903669 -0.794170   \n",
      "Bee                       -1.446842 -2.462992  0.541889 -1.002507  2.152622   \n",
      "Pacific Rock Moss         -0.952518 -1.053678  0.188781 -1.462305 -0.116167   \n",
      "Ani                       -2.197587  1.841014  2.131269  0.288221  1.306437   \n",
      "\n",
      "                                 10        11        12        13        14  \n",
      "title                                                                        \n",
      "Creation-E Parfum Cologne  0.414496  0.406766 -0.362547  1.815863  2.756459  \n",
      "Baccarat Rouge 540         1.774343  0.792401 -1.301614 -2.055875  1.329895  \n",
      "Bee                        0.427543  0.578008 -1.159301 -0.037885  3.520774  \n",
      "Pacific Rock Moss          1.986655  0.111081 -1.366292  0.693175  2.380089  \n",
      "Ani                        1.436104 -1.938236 -0.957970 -2.852152  2.385447  \n"
     ]
    }
   ],
   "source": [
    "doctovec_feature_matrix = pd.DataFrame(model.docvecs.vectors_docs, index=df.title)\n",
    "print(doctovec_feature_matrix.shape)\n",
    "print(doctovec_feature_matrix.head())\n",
    "pickle.dump(doctovec_feature_matrix, open(\"models/doctovec_embeddings.pkl\", \"wb\"))"
   ]
  },
  {
   "cell_type": "code",
   "execution_count": null,
   "metadata": {},
   "outputs": [],
   "source": []
  }
 ],
 "metadata": {
  "kernelspec": {
   "display_name": "Python 3",
   "language": "python",
   "name": "python3"
  },
  "language_info": {
   "codemirror_mode": {
    "name": "ipython",
    "version": 3
   },
   "file_extension": ".py",
   "mimetype": "text/x-python",
   "name": "python",
   "nbconvert_exporter": "python",
   "pygments_lexer": "ipython3",
   "version": "3.7.4"
  }
 },
 "nbformat": 4,
 "nbformat_minor": 2
}
